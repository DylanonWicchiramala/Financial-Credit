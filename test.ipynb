{
 "cells": [
  {
   "cell_type": "code",
   "execution_count": 2,
   "metadata": {},
   "outputs": [
    {
     "data": {
      "text/plain": [
       "{'_id': ObjectId('66f50322d82ebda0ef5e776f'),\n",
       " 'user_id': 'test',\n",
       " 'name': 'สมชาย สายชม',\n",
       " 'loan_history': 'ever',\n",
       " 'income_source': ['employment'],\n",
       " 'monthly_income': 15000,\n",
       " 'total_debt_payment_monthly': 55000}"
      ]
     },
     "execution_count": 2,
     "metadata": {},
     "output_type": "execute_result"
    }
   ],
   "source": [
    "from tools import set_customer_data, get_customer_data\n",
    "\n",
    "set_customer_data({\n",
    "    \"total_debt_payment_monthly\":55000\n",
    "})"
   ]
  }
 ],
 "metadata": {
  "kernelspec": {
   "display_name": "Python 3",
   "language": "python",
   "name": "python3"
  },
  "language_info": {
   "codemirror_mode": {
    "name": "ipython",
    "version": 3
   },
   "file_extension": ".py",
   "mimetype": "text/x-python",
   "name": "python",
   "nbconvert_exporter": "python",
   "pygments_lexer": "ipython3",
   "version": "3.11.9"
  }
 },
 "nbformat": 4,
 "nbformat_minor": 2
}
