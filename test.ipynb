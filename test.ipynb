{
 "cells": [
  {
   "cell_type": "code",
   "execution_count": 1,
   "metadata": {},
   "outputs": [
    {
     "data": {
      "text/plain": [
       "DeleteResult({'n': 0, 'electionId': ObjectId('7fffffff0000000000000203'), 'opTime': {'ts': Timestamp(1727254559, 7), 't': 515}, 'ok': 1.0, '$clusterTime': {'clusterTime': Timestamp(1727254559, 7), 'signature': {'hash': b'g\\x8a{g\\x92\\xe2^\\xf12*C\\x1c<\\r-\\xcc\\x9c&>\\x83', 'keyId': 7366617972116291585}}, 'operationTime': Timestamp(1727254559, 7)}, acknowledged=True)"
      ]
     },
     "execution_count": 1,
     "metadata": {},
     "output_type": "execute_result"
    }
   ],
   "source": [
    "import database\n",
    "import database.chat_history\n",
    "\n",
    "database.chat_history.delete(user_id=\"example\")"
   ]
  },
  {
   "cell_type": "code",
   "execution_count": 2,
   "metadata": {},
   "outputs": [
    {
     "name": "stderr",
     "output_type": "stream",
     "text": [
      "/Library/Frameworks/Python.framework/Versions/3.11/lib/python3.11/site-packages/langchain_core/_api/deprecation.py:141: LangChainDeprecationWarning: The method `BaseTool.__call__` was deprecated in langchain-core 0.1.47 and will be removed in 1.0. Use invoke instead.\n",
      "  warn_deprecated(\n"
     ]
    },
    {
     "data": {
      "text/plain": [
       "{'_id': ObjectId('66f3c184d82ebda0ef2f1c10'),\n",
       " 'user_id': 'example2',\n",
       " 'name': 'หมันหู หมูหัน',\n",
       " 'age': 97,\n",
       " 'income_source': None,\n",
       " 'monthly_income': None,\n",
       " 'job_status': None,\n",
       " 'outstanding_loan_amount': None,\n",
       " 'loan_history': None,\n",
       " 'missed_payments': None,\n",
       " 'total_debt_payment_monthly': None,\n",
       " 'payment_types': None,\n",
       " 'significant_assets': None}"
      ]
     },
     "execution_count": 2,
     "metadata": {},
     "output_type": "execute_result"
    }
   ],
   "source": [
    "import tools\n",
    "\n",
    "tools.set_current_user_id(\"example2\")\n",
    "tools.get_customer_data(tool_input=[])"
   ]
  }
 ],
 "metadata": {
  "kernelspec": {
   "display_name": "Python 3",
   "language": "python",
   "name": "python3"
  },
  "language_info": {
   "codemirror_mode": {
    "name": "ipython",
    "version": 3
   },
   "file_extension": ".py",
   "mimetype": "text/x-python",
   "name": "python",
   "nbconvert_exporter": "python",
   "pygments_lexer": "ipython3",
   "version": "3.11.9"
  }
 },
 "nbformat": 4,
 "nbformat_minor": 2
}
