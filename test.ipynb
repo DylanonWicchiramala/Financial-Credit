{
 "cells": [
  {
   "cell_type": "code",
   "execution_count": 3,
   "metadata": {},
   "outputs": [
    {
     "data": {
      "text/plain": [
       "{'_id': ObjectId('66f3e29ed82ebda0ef4f37bb'),\n",
       " 'user_id': 'test',\n",
       " 'name': 'สมชาย สายชม'}"
      ]
     },
     "execution_count": 3,
     "metadata": {},
     "output_type": "execute_result"
    }
   ],
   "source": [
    "import database\n",
    "import database.chat_history\n",
    "import database.customer\n",
    "\n",
    "database.chat_history.delete(user_id=\"test\")\n",
    "\n",
    "database.customer.delete(user_id=\"test\")\n",
    "\n",
    "database.customer.update({\n",
    "    \"name\":\"สมชาย สายชม\",\n",
    "},user_id=\"test\")"
   ]
  },
  {
   "cell_type": "code",
   "execution_count": 4,
   "metadata": {},
   "outputs": [
    {
     "data": {
      "text/plain": [
       "[{'_id': ObjectId('66f3bc7ad82ebda0ef2a1ee0'),\n",
       "  'user_id': 'example',\n",
       "  'age': 22,\n",
       "  'income_source': 'employment, business, investments, freelance, rental',\n",
       "  'job_status': 'employed, self-employed, unemployed',\n",
       "  'loan_history': 'ever, never',\n",
       "  'missed_payments': 'ever, never',\n",
       "  'monthly_income': 12000,\n",
       "  'name': 'example exmaples',\n",
       "  'outstanding_loan_amount': 5000000,\n",
       "  'payment_types': 'Car, Loan, Mortgage',\n",
       "  'significant_assets': 'House, Realestate, Car',\n",
       "  'total_debt_payment_monthly': 12000},\n",
       " {'_id': ObjectId('66f3c184d82ebda0ef2f1c10'),\n",
       "  'user_id': 'example2',\n",
       "  'name': 'หมันหู หมูหัน',\n",
       "  'age': 97},\n",
       " {'_id': ObjectId('66f3e29ed82ebda0ef4f37bb'),\n",
       "  'user_id': 'test',\n",
       "  'name': 'สมชาย สายชม'}]"
      ]
     },
     "execution_count": 4,
     "metadata": {},
     "output_type": "execute_result"
    }
   ],
   "source": [
    "database.customer.get(get_all=True)"
   ]
  },
  {
   "cell_type": "code",
   "execution_count": null,
   "metadata": {},
   "outputs": [],
   "source": []
  }
 ],
 "metadata": {
  "kernelspec": {
   "display_name": "Python 3",
   "language": "python",
   "name": "python3"
  },
  "language_info": {
   "codemirror_mode": {
    "name": "ipython",
    "version": 3
   },
   "file_extension": ".py",
   "mimetype": "text/x-python",
   "name": "python",
   "nbconvert_exporter": "python",
   "pygments_lexer": "ipython3",
   "version": "3.11.9"
  }
 },
 "nbformat": 4,
 "nbformat_minor": 2
}
