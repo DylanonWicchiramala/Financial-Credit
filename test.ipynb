{
 "cells": [
  {
   "cell_type": "code",
   "execution_count": 3,
   "metadata": {},
   "outputs": [
    {
     "data": {
      "text/plain": [
       "DeleteResult({'n': 1, 'electionId': ObjectId('7fffffff0000000000000203'), 'opTime': {'ts': Timestamp(1727257181, 9), 't': 515}, 'ok': 1.0, '$clusterTime': {'clusterTime': Timestamp(1727257181, 9), 'signature': {'hash': b'J^\\xc7#\\xb1\\x83\\xa3\\xba\\xf5\\xb3+\\x11p0Y\\xbc.\\x90\\xdf\\xaf', 'keyId': 7366617972116291585}}, 'operationTime': Timestamp(1727257181, 9)}, acknowledged=True)"
      ]
     },
     "execution_count": 3,
     "metadata": {},
     "output_type": "execute_result"
    }
   ],
   "source": [
    "import database\n",
    "import database.chat_history\n",
    "\n",
    "database.chat_history.delete(user_id=\"test\")"
   ]
  }
 ],
 "metadata": {
  "kernelspec": {
   "display_name": "Python 3",
   "language": "python",
   "name": "python3"
  },
  "language_info": {
   "codemirror_mode": {
    "name": "ipython",
    "version": 3
   },
   "file_extension": ".py",
   "mimetype": "text/x-python",
   "name": "python",
   "nbconvert_exporter": "python",
   "pygments_lexer": "ipython3",
   "version": "3.11.9"
  }
 },
 "nbformat": 4,
 "nbformat_minor": 2
}
